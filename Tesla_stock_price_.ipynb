{
  "nbformat": 4,
  "nbformat_minor": 0,
  "metadata": {
    "colab": {
      "name": "Tesla stock price .ipynb",
      "provenance": []
    },
    "kernelspec": {
      "name": "python3",
      "display_name": "Python 3"
    }
  },
  "cells": [
    {
      "cell_type": "markdown",
      "metadata": {
        "id": "aRj063g5ZGYT"
      },
      "source": [
        "# **stcok price prediction** \n",
        "\n",
        "---\n",
        "\n"
      ]
    },
    {
      "cell_type": "markdown",
      "metadata": {
        "id": "33UXZL3nZdiu"
      },
      "source": [
        "##importing dependencies\n",
        "\n",
        "\n"
      ]
    },
    {
      "cell_type": "code",
      "metadata": {
        "id": "9HYToVpLZgz3"
      },
      "source": [
        "import numpy as np\n",
        "import pandas as pd\n",
        "import matplotlib.pyplot as plt\n",
        "import datetime\n",
        "from sklearn.model_selection import train_test_split\n",
        "from sklearn.linear_model import LinearRegression\n",
        "from sklearn.preprocessing import MinMaxScaler\n",
        "from sklearn.metrics import mean_squared_error,r2_score\n",
        "from sklearn.tree import DecisionTreeRegressor\n",
        "from sklearn.ensemble import RandomForestRegressor"
      ],
      "execution_count": 1,
      "outputs": []
    },
    {
      "cell_type": "markdown",
      "metadata": {
        "id": "pZSlBJzRaD8Z"
      },
      "source": [
        "## load dataset"
      ]
    },
    {
      "cell_type": "code",
      "metadata": {
        "id": "gynE-10yaMMr"
      },
      "source": [
        "Tesla=pd.read_csv(\"Tesla.csv - Tesla.csv.csv\", index_col=\"Date\", parse_dates=True)"
      ],
      "execution_count": 2,
      "outputs": []
    },
    {
      "cell_type": "code",
      "metadata": {
        "id": "RUMYSRQwa5P0",
        "outputId": "118cd6ea-7ee0-46d9-8085-448142373e95",
        "colab": {
          "base_uri": "https://localhost:8080/",
          "height": 700
        }
      },
      "source": [
        "Tesla.head(20)"
      ],
      "execution_count": 3,
      "outputs": [
        {
          "output_type": "execute_result",
          "data": {
            "text/html": [
              "<div>\n",
              "<style scoped>\n",
              "    .dataframe tbody tr th:only-of-type {\n",
              "        vertical-align: middle;\n",
              "    }\n",
              "\n",
              "    .dataframe tbody tr th {\n",
              "        vertical-align: top;\n",
              "    }\n",
              "\n",
              "    .dataframe thead th {\n",
              "        text-align: right;\n",
              "    }\n",
              "</style>\n",
              "<table border=\"1\" class=\"dataframe\">\n",
              "  <thead>\n",
              "    <tr style=\"text-align: right;\">\n",
              "      <th></th>\n",
              "      <th>Open</th>\n",
              "      <th>High</th>\n",
              "      <th>Low</th>\n",
              "      <th>Close</th>\n",
              "      <th>Volume</th>\n",
              "      <th>Adj Close</th>\n",
              "    </tr>\n",
              "    <tr>\n",
              "      <th>Date</th>\n",
              "      <th></th>\n",
              "      <th></th>\n",
              "      <th></th>\n",
              "      <th></th>\n",
              "      <th></th>\n",
              "      <th></th>\n",
              "    </tr>\n",
              "  </thead>\n",
              "  <tbody>\n",
              "    <tr>\n",
              "      <th>2010-06-29</th>\n",
              "      <td>19.000000</td>\n",
              "      <td>25.000000</td>\n",
              "      <td>17.540001</td>\n",
              "      <td>23.889999</td>\n",
              "      <td>18766300</td>\n",
              "      <td>23.889999</td>\n",
              "    </tr>\n",
              "    <tr>\n",
              "      <th>2010-06-30</th>\n",
              "      <td>25.790001</td>\n",
              "      <td>30.420000</td>\n",
              "      <td>23.299999</td>\n",
              "      <td>23.830000</td>\n",
              "      <td>17187100</td>\n",
              "      <td>23.830000</td>\n",
              "    </tr>\n",
              "    <tr>\n",
              "      <th>2010-07-01</th>\n",
              "      <td>25.000000</td>\n",
              "      <td>25.920000</td>\n",
              "      <td>20.270000</td>\n",
              "      <td>21.959999</td>\n",
              "      <td>8218800</td>\n",
              "      <td>21.959999</td>\n",
              "    </tr>\n",
              "    <tr>\n",
              "      <th>2010-07-02</th>\n",
              "      <td>23.000000</td>\n",
              "      <td>23.100000</td>\n",
              "      <td>18.709999</td>\n",
              "      <td>19.200001</td>\n",
              "      <td>5139800</td>\n",
              "      <td>19.200001</td>\n",
              "    </tr>\n",
              "    <tr>\n",
              "      <th>2010-07-06</th>\n",
              "      <td>20.000000</td>\n",
              "      <td>20.000000</td>\n",
              "      <td>15.830000</td>\n",
              "      <td>16.110001</td>\n",
              "      <td>6866900</td>\n",
              "      <td>16.110001</td>\n",
              "    </tr>\n",
              "    <tr>\n",
              "      <th>2010-07-07</th>\n",
              "      <td>16.400000</td>\n",
              "      <td>16.629999</td>\n",
              "      <td>14.980000</td>\n",
              "      <td>15.800000</td>\n",
              "      <td>6921700</td>\n",
              "      <td>15.800000</td>\n",
              "    </tr>\n",
              "    <tr>\n",
              "      <th>2010-07-08</th>\n",
              "      <td>16.139999</td>\n",
              "      <td>17.520000</td>\n",
              "      <td>15.570000</td>\n",
              "      <td>17.459999</td>\n",
              "      <td>7711400</td>\n",
              "      <td>17.459999</td>\n",
              "    </tr>\n",
              "    <tr>\n",
              "      <th>2010-07-09</th>\n",
              "      <td>17.580000</td>\n",
              "      <td>17.900000</td>\n",
              "      <td>16.549999</td>\n",
              "      <td>17.400000</td>\n",
              "      <td>4050600</td>\n",
              "      <td>17.400000</td>\n",
              "    </tr>\n",
              "    <tr>\n",
              "      <th>2010-07-12</th>\n",
              "      <td>17.950001</td>\n",
              "      <td>18.070000</td>\n",
              "      <td>17.000000</td>\n",
              "      <td>17.049999</td>\n",
              "      <td>2202500</td>\n",
              "      <td>17.049999</td>\n",
              "    </tr>\n",
              "    <tr>\n",
              "      <th>2010-07-13</th>\n",
              "      <td>17.389999</td>\n",
              "      <td>18.639999</td>\n",
              "      <td>16.900000</td>\n",
              "      <td>18.139999</td>\n",
              "      <td>2680100</td>\n",
              "      <td>18.139999</td>\n",
              "    </tr>\n",
              "    <tr>\n",
              "      <th>2010-07-14</th>\n",
              "      <td>17.940001</td>\n",
              "      <td>20.150000</td>\n",
              "      <td>17.760000</td>\n",
              "      <td>19.840000</td>\n",
              "      <td>4195200</td>\n",
              "      <td>19.840000</td>\n",
              "    </tr>\n",
              "    <tr>\n",
              "      <th>2010-07-15</th>\n",
              "      <td>19.940001</td>\n",
              "      <td>21.500000</td>\n",
              "      <td>19.000000</td>\n",
              "      <td>19.889999</td>\n",
              "      <td>3739800</td>\n",
              "      <td>19.889999</td>\n",
              "    </tr>\n",
              "    <tr>\n",
              "      <th>2010-07-16</th>\n",
              "      <td>20.700001</td>\n",
              "      <td>21.299999</td>\n",
              "      <td>20.049999</td>\n",
              "      <td>20.639999</td>\n",
              "      <td>2621300</td>\n",
              "      <td>20.639999</td>\n",
              "    </tr>\n",
              "    <tr>\n",
              "      <th>2010-07-19</th>\n",
              "      <td>21.370001</td>\n",
              "      <td>22.250000</td>\n",
              "      <td>20.920000</td>\n",
              "      <td>21.910000</td>\n",
              "      <td>2486500</td>\n",
              "      <td>21.910000</td>\n",
              "    </tr>\n",
              "    <tr>\n",
              "      <th>2010-07-20</th>\n",
              "      <td>21.850000</td>\n",
              "      <td>21.850000</td>\n",
              "      <td>20.049999</td>\n",
              "      <td>20.299999</td>\n",
              "      <td>1825300</td>\n",
              "      <td>20.299999</td>\n",
              "    </tr>\n",
              "    <tr>\n",
              "      <th>2010-07-21</th>\n",
              "      <td>20.660000</td>\n",
              "      <td>20.900000</td>\n",
              "      <td>19.500000</td>\n",
              "      <td>20.219999</td>\n",
              "      <td>1252500</td>\n",
              "      <td>20.219999</td>\n",
              "    </tr>\n",
              "    <tr>\n",
              "      <th>2010-07-22</th>\n",
              "      <td>20.500000</td>\n",
              "      <td>21.250000</td>\n",
              "      <td>20.370001</td>\n",
              "      <td>21.000000</td>\n",
              "      <td>957800</td>\n",
              "      <td>21.000000</td>\n",
              "    </tr>\n",
              "    <tr>\n",
              "      <th>2010-07-23</th>\n",
              "      <td>21.190001</td>\n",
              "      <td>21.559999</td>\n",
              "      <td>21.059999</td>\n",
              "      <td>21.290001</td>\n",
              "      <td>653600</td>\n",
              "      <td>21.290001</td>\n",
              "    </tr>\n",
              "    <tr>\n",
              "      <th>2010-07-26</th>\n",
              "      <td>21.500000</td>\n",
              "      <td>21.500000</td>\n",
              "      <td>20.299999</td>\n",
              "      <td>20.950001</td>\n",
              "      <td>922200</td>\n",
              "      <td>20.950001</td>\n",
              "    </tr>\n",
              "    <tr>\n",
              "      <th>2010-07-27</th>\n",
              "      <td>20.910000</td>\n",
              "      <td>21.180000</td>\n",
              "      <td>20.260000</td>\n",
              "      <td>20.549999</td>\n",
              "      <td>619700</td>\n",
              "      <td>20.549999</td>\n",
              "    </tr>\n",
              "  </tbody>\n",
              "</table>\n",
              "</div>"
            ],
            "text/plain": [
              "                 Open       High        Low      Close    Volume  Adj Close\n",
              "Date                                                                       \n",
              "2010-06-29  19.000000  25.000000  17.540001  23.889999  18766300  23.889999\n",
              "2010-06-30  25.790001  30.420000  23.299999  23.830000  17187100  23.830000\n",
              "2010-07-01  25.000000  25.920000  20.270000  21.959999   8218800  21.959999\n",
              "2010-07-02  23.000000  23.100000  18.709999  19.200001   5139800  19.200001\n",
              "2010-07-06  20.000000  20.000000  15.830000  16.110001   6866900  16.110001\n",
              "2010-07-07  16.400000  16.629999  14.980000  15.800000   6921700  15.800000\n",
              "2010-07-08  16.139999  17.520000  15.570000  17.459999   7711400  17.459999\n",
              "2010-07-09  17.580000  17.900000  16.549999  17.400000   4050600  17.400000\n",
              "2010-07-12  17.950001  18.070000  17.000000  17.049999   2202500  17.049999\n",
              "2010-07-13  17.389999  18.639999  16.900000  18.139999   2680100  18.139999\n",
              "2010-07-14  17.940001  20.150000  17.760000  19.840000   4195200  19.840000\n",
              "2010-07-15  19.940001  21.500000  19.000000  19.889999   3739800  19.889999\n",
              "2010-07-16  20.700001  21.299999  20.049999  20.639999   2621300  20.639999\n",
              "2010-07-19  21.370001  22.250000  20.920000  21.910000   2486500  21.910000\n",
              "2010-07-20  21.850000  21.850000  20.049999  20.299999   1825300  20.299999\n",
              "2010-07-21  20.660000  20.900000  19.500000  20.219999   1252500  20.219999\n",
              "2010-07-22  20.500000  21.250000  20.370001  21.000000    957800  21.000000\n",
              "2010-07-23  21.190001  21.559999  21.059999  21.290001    653600  21.290001\n",
              "2010-07-26  21.500000  21.500000  20.299999  20.950001    922200  20.950001\n",
              "2010-07-27  20.910000  21.180000  20.260000  20.549999    619700  20.549999"
            ]
          },
          "metadata": {
            "tags": []
          },
          "execution_count": 3
        }
      ]
    },
    {
      "cell_type": "markdown",
      "metadata": {
        "id": "MqZzPailcxo0"
      },
      "source": [
        "## analyzing data"
      ]
    },
    {
      "cell_type": "code",
      "metadata": {
        "id": "PnOCcuNTcpCz",
        "outputId": "df7bad2e-4eaf-4fdd-9bf9-6d6f154bae8f",
        "colab": {
          "base_uri": "https://localhost:8080/",
          "height": 297
        }
      },
      "source": [
        "Tesla.describe()"
      ],
      "execution_count": 4,
      "outputs": [
        {
          "output_type": "execute_result",
          "data": {
            "text/html": [
              "<div>\n",
              "<style scoped>\n",
              "    .dataframe tbody tr th:only-of-type {\n",
              "        vertical-align: middle;\n",
              "    }\n",
              "\n",
              "    .dataframe tbody tr th {\n",
              "        vertical-align: top;\n",
              "    }\n",
              "\n",
              "    .dataframe thead th {\n",
              "        text-align: right;\n",
              "    }\n",
              "</style>\n",
              "<table border=\"1\" class=\"dataframe\">\n",
              "  <thead>\n",
              "    <tr style=\"text-align: right;\">\n",
              "      <th></th>\n",
              "      <th>Open</th>\n",
              "      <th>High</th>\n",
              "      <th>Low</th>\n",
              "      <th>Close</th>\n",
              "      <th>Volume</th>\n",
              "      <th>Adj Close</th>\n",
              "    </tr>\n",
              "  </thead>\n",
              "  <tbody>\n",
              "    <tr>\n",
              "      <th>count</th>\n",
              "      <td>1692.000000</td>\n",
              "      <td>1692.000000</td>\n",
              "      <td>1692.000000</td>\n",
              "      <td>1692.000000</td>\n",
              "      <td>1.692000e+03</td>\n",
              "      <td>1692.000000</td>\n",
              "    </tr>\n",
              "    <tr>\n",
              "      <th>mean</th>\n",
              "      <td>132.441572</td>\n",
              "      <td>134.769698</td>\n",
              "      <td>129.996223</td>\n",
              "      <td>132.428658</td>\n",
              "      <td>4.270741e+06</td>\n",
              "      <td>132.428658</td>\n",
              "    </tr>\n",
              "    <tr>\n",
              "      <th>std</th>\n",
              "      <td>94.309923</td>\n",
              "      <td>95.694914</td>\n",
              "      <td>92.855227</td>\n",
              "      <td>94.313187</td>\n",
              "      <td>4.295971e+06</td>\n",
              "      <td>94.313187</td>\n",
              "    </tr>\n",
              "    <tr>\n",
              "      <th>min</th>\n",
              "      <td>16.139999</td>\n",
              "      <td>16.629999</td>\n",
              "      <td>14.980000</td>\n",
              "      <td>15.800000</td>\n",
              "      <td>1.185000e+05</td>\n",
              "      <td>15.800000</td>\n",
              "    </tr>\n",
              "    <tr>\n",
              "      <th>25%</th>\n",
              "      <td>30.000000</td>\n",
              "      <td>30.650000</td>\n",
              "      <td>29.214999</td>\n",
              "      <td>29.884999</td>\n",
              "      <td>1.194350e+06</td>\n",
              "      <td>29.884999</td>\n",
              "    </tr>\n",
              "    <tr>\n",
              "      <th>50%</th>\n",
              "      <td>156.334999</td>\n",
              "      <td>162.370002</td>\n",
              "      <td>153.150002</td>\n",
              "      <td>158.160004</td>\n",
              "      <td>3.180700e+06</td>\n",
              "      <td>158.160004</td>\n",
              "    </tr>\n",
              "    <tr>\n",
              "      <th>75%</th>\n",
              "      <td>220.557495</td>\n",
              "      <td>224.099999</td>\n",
              "      <td>217.119999</td>\n",
              "      <td>220.022503</td>\n",
              "      <td>5.662100e+06</td>\n",
              "      <td>220.022503</td>\n",
              "    </tr>\n",
              "    <tr>\n",
              "      <th>max</th>\n",
              "      <td>287.670013</td>\n",
              "      <td>291.420013</td>\n",
              "      <td>280.399994</td>\n",
              "      <td>286.040009</td>\n",
              "      <td>3.716390e+07</td>\n",
              "      <td>286.040009</td>\n",
              "    </tr>\n",
              "  </tbody>\n",
              "</table>\n",
              "</div>"
            ],
            "text/plain": [
              "              Open         High  ...        Volume    Adj Close\n",
              "count  1692.000000  1692.000000  ...  1.692000e+03  1692.000000\n",
              "mean    132.441572   134.769698  ...  4.270741e+06   132.428658\n",
              "std      94.309923    95.694914  ...  4.295971e+06    94.313187\n",
              "min      16.139999    16.629999  ...  1.185000e+05    15.800000\n",
              "25%      30.000000    30.650000  ...  1.194350e+06    29.884999\n",
              "50%     156.334999   162.370002  ...  3.180700e+06   158.160004\n",
              "75%     220.557495   224.099999  ...  5.662100e+06   220.022503\n",
              "max     287.670013   291.420013  ...  3.716390e+07   286.040009\n",
              "\n",
              "[8 rows x 6 columns]"
            ]
          },
          "metadata": {
            "tags": []
          },
          "execution_count": 4
        }
      ]
    },
    {
      "cell_type": "code",
      "metadata": {
        "id": "efiqGKnGctbm",
        "outputId": "c44a1dae-ae8b-4781-84e8-94a822abe333",
        "colab": {
          "base_uri": "https://localhost:8080/",
          "height": 238
        }
      },
      "source": [
        "Tesla.info()              #only volumn column is of int data type "
      ],
      "execution_count": 5,
      "outputs": [
        {
          "output_type": "stream",
          "text": [
            "<class 'pandas.core.frame.DataFrame'>\n",
            "DatetimeIndex: 1692 entries, 2010-06-29 to 2017-03-17\n",
            "Data columns (total 6 columns):\n",
            " #   Column     Non-Null Count  Dtype  \n",
            "---  ------     --------------  -----  \n",
            " 0   Open       1692 non-null   float64\n",
            " 1   High       1692 non-null   float64\n",
            " 2   Low        1692 non-null   float64\n",
            " 3   Close      1692 non-null   float64\n",
            " 4   Volume     1692 non-null   int64  \n",
            " 5   Adj Close  1692 non-null   float64\n",
            "dtypes: float64(5), int64(1)\n",
            "memory usage: 92.5 KB\n"
          ],
          "name": "stdout"
        }
      ]
    },
    {
      "cell_type": "code",
      "metadata": {
        "id": "seu-Lah5bBd1"
      },
      "source": [
        "Tesla['Volume']=Tesla['Volume'].astype(float)"
      ],
      "execution_count": 6,
      "outputs": []
    },
    {
      "cell_type": "code",
      "metadata": {
        "id": "HA8HUnn7bMof",
        "outputId": "03e58549-514d-43ce-916e-366e1e8fe899",
        "colab": {
          "base_uri": "https://localhost:8080/",
          "height": 238
        }
      },
      "source": [
        "Tesla.info()           #column of adj close is having same values as close so it is not of much use"
      ],
      "execution_count": 7,
      "outputs": [
        {
          "output_type": "stream",
          "text": [
            "<class 'pandas.core.frame.DataFrame'>\n",
            "DatetimeIndex: 1692 entries, 2010-06-29 to 2017-03-17\n",
            "Data columns (total 6 columns):\n",
            " #   Column     Non-Null Count  Dtype  \n",
            "---  ------     --------------  -----  \n",
            " 0   Open       1692 non-null   float64\n",
            " 1   High       1692 non-null   float64\n",
            " 2   Low        1692 non-null   float64\n",
            " 3   Close      1692 non-null   float64\n",
            " 4   Volume     1692 non-null   float64\n",
            " 5   Adj Close  1692 non-null   float64\n",
            "dtypes: float64(6)\n",
            "memory usage: 92.5 KB\n"
          ],
          "name": "stdout"
        }
      ]
    },
    {
      "cell_type": "code",
      "metadata": {
        "id": "mlFt2IL0NykP",
        "outputId": "bb41f111-fec1-4900-e9ce-982dbd49e5d0",
        "colab": {
          "base_uri": "https://localhost:8080/",
          "height": 34
        }
      },
      "source": [
        "Tesla.shape"
      ],
      "execution_count": 8,
      "outputs": [
        {
          "output_type": "execute_result",
          "data": {
            "text/plain": [
              "(1692, 6)"
            ]
          },
          "metadata": {
            "tags": []
          },
          "execution_count": 8
        }
      ]
    },
    {
      "cell_type": "code",
      "metadata": {
        "id": "jtfs4ODY-pLW",
        "outputId": "5b222343-c518-4ad0-83bc-7e9917c95bf3",
        "colab": {
          "base_uri": "https://localhost:8080/",
          "height": 631
        }
      },
      "source": [
        "Tesla.hist(bins=50, figsize=(12,8))"
      ],
      "execution_count": 9,
      "outputs": [
        {
          "output_type": "execute_result",
          "data": {
            "text/plain": [
              "array([[<matplotlib.axes._subplots.AxesSubplot object at 0x7f372b1b3eb8>,\n",
              "        <matplotlib.axes._subplots.AxesSubplot object at 0x7f372b1121d0>],\n",
              "       [<matplotlib.axes._subplots.AxesSubplot object at 0x7f372b0cb438>,\n",
              "        <matplotlib.axes._subplots.AxesSubplot object at 0x7f372b0fd6a0>],\n",
              "       [<matplotlib.axes._subplots.AxesSubplot object at 0x7f372b0b1908>,\n",
              "        <matplotlib.axes._subplots.AxesSubplot object at 0x7f372b065b70>]],\n",
              "      dtype=object)"
            ]
          },
          "metadata": {
            "tags": []
          },
          "execution_count": 9
        },
        {
          "output_type": "display_data",
          "data": {
            "image/png": "[encoded data removed]",
            "text/plain": [
              "<Figure size 864x576 with 6 Axes>"
            ]
          },
          "metadata": {
            "tags": [],
            "needs_background": "light"
          }
        }
      ]
    },
    {
      "cell_type": "code",
      "metadata": {
        "id": "XY8cqmToiZXD",
        "outputId": "e78b4295-1b47-4727-da6a-4ee1ae5b2fdf",
        "colab": {
          "base_uri": "https://localhost:8080/",
          "height": 387
        }
      },
      "source": [
        "Tesla['Open'].plot(figsize=(16,6))"
      ],
      "execution_count": 10,
      "outputs": [
        {
          "output_type": "execute_result",
          "data": {
            "text/plain": [
              "<matplotlib.axes._subplots.AxesSubplot at 0x7f372a7a4278>"
            ]
          },
          "metadata": {
            "tags": []
          },
          "execution_count": 10
        },
        {
          "output_type": "display_data",
          "data": {
            "image/png": "[encoded data removed]",
            "text/plain": [
              "<Figure size 1152x432 with 1 Axes>"
            ]
          },
          "metadata": {
            "tags": [],
            "needs_background": "light"
          }
        }
      ]
    },
    {
      "cell_type": "code",
      "metadata": {
        "id": "Ii6Jh6NiqEmX",
        "outputId": "f9464d29-db45-4ded-ae33-0b4efe487418",
        "colab": {
          "base_uri": "https://localhost:8080/",
          "height": 136
        }
      },
      "source": [
        "Tesla.isnull().sum()"
      ],
      "execution_count": 11,
      "outputs": [
        {
          "output_type": "execute_result",
          "data": {
            "text/plain": [
              "Open         0\n",
              "High         0\n",
              "Low          0\n",
              "Close        0\n",
              "Volume       0\n",
              "Adj Close    0\n",
              "dtype: int64"
            ]
          },
          "metadata": {
            "tags": []
          },
          "execution_count": 11
        }
      ]
    },
    {
      "cell_type": "code",
      "metadata": {
        "id": "Ke8LpVsjdKI5",
        "outputId": "34b6db51-cf78-45e5-884c-45138208cd86",
        "colab": {
          "base_uri": "https://localhost:8080/",
          "height": 136
        }
      },
      "source": [
        "corr_matrix=Tesla.corr()\n",
        "corr_matrix['Close'].sort_values(ascending=False)              #this shows that volume fearure has least effect on the value of close price"
      ],
      "execution_count": 12,
      "outputs": [
        {
          "output_type": "execute_result",
          "data": {
            "text/plain": [
              "Adj Close    1.000000\n",
              "Close        1.000000\n",
              "High         0.999691\n",
              "Low          0.999656\n",
              "Open         0.999233\n",
              "Volume       0.406907\n",
              "Name: Close, dtype: float64"
            ]
          },
          "metadata": {
            "tags": []
          },
          "execution_count": 12
        }
      ]
    },
    {
      "cell_type": "code",
      "metadata": {
        "id": "bBBGzHelgiTp",
        "outputId": "844179d9-0da8-4e27-8fc9-e7b97738fbe7",
        "colab": {
          "base_uri": "https://localhost:8080/",
          "height": 700
        }
      },
      "source": [
        "Tesla.rolling(7).mean().head(20)                            #used to get average of last 7 days"
      ],
      "execution_count": 13,
      "outputs": [
        {
          "output_type": "execute_result",
          "data": {
            "text/html": [
              "<div>\n",
              "<style scoped>\n",
              "    .dataframe tbody tr th:only-of-type {\n",
              "        vertical-align: middle;\n",
              "    }\n",
              "\n",
              "    .dataframe tbody tr th {\n",
              "        vertical-align: top;\n",
              "    }\n",
              "\n",
              "    .dataframe thead th {\n",
              "        text-align: right;\n",
              "    }\n",
              "</style>\n",
              "<table border=\"1\" class=\"dataframe\">\n",
              "  <thead>\n",
              "    <tr style=\"text-align: right;\">\n",
              "      <th></th>\n",
              "      <th>Open</th>\n",
              "      <th>High</th>\n",
              "      <th>Low</th>\n",
              "      <th>Close</th>\n",
              "      <th>Volume</th>\n",
              "      <th>Adj Close</th>\n",
              "    </tr>\n",
              "    <tr>\n",
              "      <th>Date</th>\n",
              "      <th></th>\n",
              "      <th></th>\n",
              "      <th></th>\n",
              "      <th></th>\n",
              "      <th></th>\n",
              "      <th></th>\n",
              "    </tr>\n",
              "  </thead>\n",
              "  <tbody>\n",
              "    <tr>\n",
              "      <th>2010-06-29</th>\n",
              "      <td>NaN</td>\n",
              "      <td>NaN</td>\n",
              "      <td>NaN</td>\n",
              "      <td>NaN</td>\n",
              "      <td>NaN</td>\n",
              "      <td>NaN</td>\n",
              "    </tr>\n",
              "    <tr>\n",
              "      <th>2010-06-30</th>\n",
              "      <td>NaN</td>\n",
              "      <td>NaN</td>\n",
              "      <td>NaN</td>\n",
              "      <td>NaN</td>\n",
              "      <td>NaN</td>\n",
              "      <td>NaN</td>\n",
              "    </tr>\n",
              "    <tr>\n",
              "      <th>2010-07-01</th>\n",
              "      <td>NaN</td>\n",
              "      <td>NaN</td>\n",
              "      <td>NaN</td>\n",
              "      <td>NaN</td>\n",
              "      <td>NaN</td>\n",
              "      <td>NaN</td>\n",
              "    </tr>\n",
              "    <tr>\n",
              "      <th>2010-07-02</th>\n",
              "      <td>NaN</td>\n",
              "      <td>NaN</td>\n",
              "      <td>NaN</td>\n",
              "      <td>NaN</td>\n",
              "      <td>NaN</td>\n",
              "      <td>NaN</td>\n",
              "    </tr>\n",
              "    <tr>\n",
              "      <th>2010-07-06</th>\n",
              "      <td>NaN</td>\n",
              "      <td>NaN</td>\n",
              "      <td>NaN</td>\n",
              "      <td>NaN</td>\n",
              "      <td>NaN</td>\n",
              "      <td>NaN</td>\n",
              "    </tr>\n",
              "    <tr>\n",
              "      <th>2010-07-07</th>\n",
              "      <td>NaN</td>\n",
              "      <td>NaN</td>\n",
              "      <td>NaN</td>\n",
              "      <td>NaN</td>\n",
              "      <td>NaN</td>\n",
              "      <td>NaN</td>\n",
              "    </tr>\n",
              "    <tr>\n",
              "      <th>2010-07-08</th>\n",
              "      <td>20.761429</td>\n",
              "      <td>22.655714</td>\n",
              "      <td>18.028571</td>\n",
              "      <td>19.750000</td>\n",
              "      <td>1.011600e+07</td>\n",
              "      <td>19.750000</td>\n",
              "    </tr>\n",
              "    <tr>\n",
              "      <th>2010-07-09</th>\n",
              "      <td>20.558571</td>\n",
              "      <td>21.641428</td>\n",
              "      <td>17.887142</td>\n",
              "      <td>18.822857</td>\n",
              "      <td>8.013757e+06</td>\n",
              "      <td>18.822857</td>\n",
              "    </tr>\n",
              "    <tr>\n",
              "      <th>2010-07-12</th>\n",
              "      <td>19.438571</td>\n",
              "      <td>19.877143</td>\n",
              "      <td>16.987143</td>\n",
              "      <td>17.854286</td>\n",
              "      <td>5.873100e+06</td>\n",
              "      <td>17.854286</td>\n",
              "    </tr>\n",
              "    <tr>\n",
              "      <th>2010-07-13</th>\n",
              "      <td>18.351428</td>\n",
              "      <td>18.837143</td>\n",
              "      <td>16.505714</td>\n",
              "      <td>17.308571</td>\n",
              "      <td>5.081857e+06</td>\n",
              "      <td>17.308571</td>\n",
              "    </tr>\n",
              "    <tr>\n",
              "      <th>2010-07-14</th>\n",
              "      <td>17.628571</td>\n",
              "      <td>18.415714</td>\n",
              "      <td>16.370000</td>\n",
              "      <td>17.400000</td>\n",
              "      <td>4.946914e+06</td>\n",
              "      <td>17.400000</td>\n",
              "    </tr>\n",
              "    <tr>\n",
              "      <th>2010-07-15</th>\n",
              "      <td>17.620000</td>\n",
              "      <td>18.630000</td>\n",
              "      <td>16.822857</td>\n",
              "      <td>17.939999</td>\n",
              "      <td>4.500186e+06</td>\n",
              "      <td>17.939999</td>\n",
              "    </tr>\n",
              "    <tr>\n",
              "      <th>2010-07-16</th>\n",
              "      <td>18.234286</td>\n",
              "      <td>19.297143</td>\n",
              "      <td>17.547143</td>\n",
              "      <td>18.631428</td>\n",
              "      <td>3.885843e+06</td>\n",
              "      <td>18.631428</td>\n",
              "    </tr>\n",
              "    <tr>\n",
              "      <th>2010-07-19</th>\n",
              "      <td>18.981429</td>\n",
              "      <td>19.972857</td>\n",
              "      <td>18.311428</td>\n",
              "      <td>19.267142</td>\n",
              "      <td>3.139429e+06</td>\n",
              "      <td>19.267142</td>\n",
              "    </tr>\n",
              "    <tr>\n",
              "      <th>2010-07-20</th>\n",
              "      <td>19.591429</td>\n",
              "      <td>20.537143</td>\n",
              "      <td>18.811428</td>\n",
              "      <td>19.681428</td>\n",
              "      <td>2.821529e+06</td>\n",
              "      <td>19.681428</td>\n",
              "    </tr>\n",
              "    <tr>\n",
              "      <th>2010-07-21</th>\n",
              "      <td>19.978572</td>\n",
              "      <td>20.941428</td>\n",
              "      <td>19.168571</td>\n",
              "      <td>20.134285</td>\n",
              "      <td>2.685814e+06</td>\n",
              "      <td>20.134285</td>\n",
              "    </tr>\n",
              "    <tr>\n",
              "      <th>2010-07-22</th>\n",
              "      <td>20.422858</td>\n",
              "      <td>21.314286</td>\n",
              "      <td>19.664286</td>\n",
              "      <td>20.542857</td>\n",
              "      <td>2.439771e+06</td>\n",
              "      <td>20.542857</td>\n",
              "    </tr>\n",
              "    <tr>\n",
              "      <th>2010-07-23</th>\n",
              "      <td>20.887143</td>\n",
              "      <td>21.515714</td>\n",
              "      <td>20.135714</td>\n",
              "      <td>20.750000</td>\n",
              "      <td>1.933829e+06</td>\n",
              "      <td>20.750000</td>\n",
              "    </tr>\n",
              "    <tr>\n",
              "      <th>2010-07-26</th>\n",
              "      <td>21.110000</td>\n",
              "      <td>21.515714</td>\n",
              "      <td>20.321428</td>\n",
              "      <td>20.901428</td>\n",
              "      <td>1.531314e+06</td>\n",
              "      <td>20.901428</td>\n",
              "    </tr>\n",
              "    <tr>\n",
              "      <th>2010-07-27</th>\n",
              "      <td>21.140000</td>\n",
              "      <td>21.498571</td>\n",
              "      <td>20.351428</td>\n",
              "      <td>20.888571</td>\n",
              "      <td>1.245371e+06</td>\n",
              "      <td>20.888571</td>\n",
              "    </tr>\n",
              "  </tbody>\n",
              "</table>\n",
              "</div>"
            ],
            "text/plain": [
              "                 Open       High        Low      Close        Volume  Adj Close\n",
              "Date                                                                           \n",
              "2010-06-29        NaN        NaN        NaN        NaN           NaN        NaN\n",
              "2010-06-30        NaN        NaN        NaN        NaN           NaN        NaN\n",
              "2010-07-01        NaN        NaN        NaN        NaN           NaN        NaN\n",
              "2010-07-02        NaN        NaN        NaN        NaN           NaN        NaN\n",
              "2010-07-06        NaN        NaN        NaN        NaN           NaN        NaN\n",
              "2010-07-07        NaN        NaN        NaN        NaN           NaN        NaN\n",
              "2010-07-08  20.761429  22.655714  18.028571  19.750000  1.011600e+07  19.750000\n",
              "2010-07-09  20.558571  21.641428  17.887142  18.822857  8.013757e+06  18.822857\n",
              "2010-07-12  19.438571  19.877143  16.987143  17.854286  5.873100e+06  17.854286\n",
              "2010-07-13  18.351428  18.837143  16.505714  17.308571  5.081857e+06  17.308571\n",
              "2010-07-14  17.628571  18.415714  16.370000  17.400000  4.946914e+06  17.400000\n",
              "2010-07-15  17.620000  18.630000  16.822857  17.939999  4.500186e+06  17.939999\n",
              "2010-07-16  18.234286  19.297143  17.547143  18.631428  3.885843e+06  18.631428\n",
              "2010-07-19  18.981429  19.972857  18.311428  19.267142  3.139429e+06  19.267142\n",
              "2010-07-20  19.591429  20.537143  18.811428  19.681428  2.821529e+06  19.681428\n",
              "2010-07-21  19.978572  20.941428  19.168571  20.134285  2.685814e+06  20.134285\n",
              "2010-07-22  20.422858  21.314286  19.664286  20.542857  2.439771e+06  20.542857\n",
              "2010-07-23  20.887143  21.515714  20.135714  20.750000  1.933829e+06  20.750000\n",
              "2010-07-26  21.110000  21.515714  20.321428  20.901428  1.531314e+06  20.901428\n",
              "2010-07-27  21.140000  21.498571  20.351428  20.888571  1.245371e+06  20.888571"
            ]
          },
          "metadata": {
            "tags": []
          },
          "execution_count": 13
        }
      ]
    },
    {
      "cell_type": "code",
      "metadata": {
        "id": "9iYKqx6EakC6",
        "outputId": "6c53610f-6d69-4dc3-bcea-023488b2b0e0",
        "colab": {
          "base_uri": "https://localhost:8080/",
          "height": 387
        }
      },
      "source": [
        "Tesla['Open'].plot(figsize=(16,6))\n",
        "Tesla['Close'].plot()                           #plotting close price with open price"
      ],
      "execution_count": 14,
      "outputs": [
        {
          "output_type": "execute_result",
          "data": {
            "text/plain": [
              "<matplotlib.axes._subplots.AxesSubplot at 0x7f372a721358>"
            ]
          },
          "metadata": {
            "tags": []
          },
          "execution_count": 14
        },
        {
          "output_type": "display_data",
          "data": {
            "image/png": "[encoded data removed]",
            "text/plain": [
              "<Figure size 1152x432 with 1 Axes>"
            ]
          },
          "metadata": {
            "tags": [],
            "needs_background": "light"
          }
        }
      ]
    },
    {
      "cell_type": "code",
      "metadata": {
        "id": "bojVk7ccdw_7",
        "outputId": "9a6044dc-d646-4773-9c49-41c0387a8e72",
        "colab": {
          "base_uri": "https://localhost:8080/",
          "height": 387
        }
      },
      "source": [
        "Tesla.rolling(window=30).mean()['Close'].plot(figsize=(16,6))\n",
        "Tesla['Open'].plot()                                  #plotting average of last 30 days of close to actual price of open"
      ],
      "execution_count": 15,
      "outputs": [
        {
          "output_type": "execute_result",
          "data": {
            "text/plain": [
              "<matplotlib.axes._subplots.AxesSubplot at 0x7f372a694ba8>"
            ]
          },
          "metadata": {
            "tags": []
          },
          "execution_count": 15
        },
        {
          "output_type": "display_data",
          "data": {
            "image/png": "[encoded data removed]",
            "text/plain": [
              "<Figure size 1152x432 with 1 Axes>"
            ]
          },
          "metadata": {
            "tags": [],
            "needs_background": "light"
          }
        }
      ]
    },
    {
      "cell_type": "code",
      "metadata": {
        "id": "K4OhgYcDfGUY",
        "outputId": "fa4b23b9-8e27-4e3b-902b-e45fb4e15b91",
        "colab": {
          "base_uri": "https://localhost:8080/",
          "height": 384
        }
      },
      "source": [
        "Tesla['Close'].plot(figsize=(16,6))\n",
        "Tesla.rolling(window=30).mean()['Close'].plot()                  #plotting actual closing price with average of last 30 days of close price"
      ],
      "execution_count": 16,
      "outputs": [
        {
          "output_type": "execute_result",
          "data": {
            "text/plain": [
              "<matplotlib.axes._subplots.AxesSubplot at 0x7f372a6a6be0>"
            ]
          },
          "metadata": {
            "tags": []
          },
          "execution_count": 16
        },
        {
          "output_type": "display_data",
          "data": {
            "image/png": "[encoded data removed]",
            "text/plain": [
              "<Figure size 1152x432 with 1 Axes>"
            ]
          },
          "metadata": {
            "tags": [],
            "needs_background": "light"
          }
        }
      ]
    },
    {
      "cell_type": "code",
      "metadata": {
        "id": "rsA9AHVMf5D9",
        "outputId": "d9c0078b-11e5-496d-be04-277c10d03a40",
        "colab": {
          "base_uri": "https://localhost:8080/",
          "height": 384
        }
      },
      "source": [
        "Tesla['Close'].expanding(min_periods=1).mean().plot(figsize=(16,6))"
      ],
      "execution_count": 17,
      "outputs": [
        {
          "output_type": "execute_result",
          "data": {
            "text/plain": [
              "<matplotlib.axes._subplots.AxesSubplot at 0x7f372a5415f8>"
            ]
          },
          "metadata": {
            "tags": []
          },
          "execution_count": 17
        },
        {
          "output_type": "display_data",
          "data": {
            "image/png": "[encoded data removed]",
            "text/plain": [
              "<Figure size 1152x432 with 1 Axes>"
            ]
          },
          "metadata": {
            "tags": [],
            "needs_background": "light"
          }
        }
      ]
    },
    {
      "cell_type": "markdown",
      "metadata": {
        "id": "AQE-HUUWjq6V"
      },
      "source": [
        "##splitting data - train set and test set"
      ]
    },
    {
      "cell_type": "code",
      "metadata": {
        "id": "sQEUq9OSbe_Y"
      },
      "source": [
        "X = Tesla.drop('Close',axis=1)\n",
        "y = Tesla['Close'].copy()"
      ],
      "execution_count": 18,
      "outputs": []
    },
    {
      "cell_type": "code",
      "metadata": {
        "id": "omsG59dJjwug"
      },
      "source": [
        "X_train,X_test,y_train,y_test= train_test_split(X,y,test_size=0.2, random_state=4)"
      ],
      "execution_count": 19,
      "outputs": []
    },
    {
      "cell_type": "code",
      "metadata": {
        "id": "rMtQEj-mpnyu",
        "outputId": "ca7638c6-cc8f-49a8-d21c-9d566d7c1baa",
        "colab": {
          "base_uri": "https://localhost:8080/",
          "height": 68
        }
      },
      "source": [
        "print(f\"rows in train set {len(X_train)}\\n rows in test set {len(y_test)}\\n\")"
      ],
      "execution_count": 20,
      "outputs": [
        {
          "output_type": "stream",
          "text": [
            "rows in train set 1353\n",
            " rows in test set 339\n",
            "\n"
          ],
          "name": "stdout"
        }
      ]
    },
    {
      "cell_type": "markdown",
      "metadata": {
        "id": "K-tRK8DGL4EM"
      },
      "source": [
        "##model designing"
      ]
    },
    {
      "cell_type": "code",
      "metadata": {
        "id": "maT32_bphLss"
      },
      "source": [
        "X_train=np.array(X_train)\n",
        "X_test=np.array(X_test)\n",
        "y_train=np.array(y_train)\n",
        "y_test=np.array(y_test)"
      ],
      "execution_count": 21,
      "outputs": []
    },
    {
      "cell_type": "code",
      "metadata": {
        "id": "zpKgP2C6L7EJ",
        "outputId": "08e6cb50-e704-4a25-840f-2cc2a25a7b48",
        "colab": {
          "base_uri": "https://localhost:8080/",
          "height": 34
        }
      },
      "source": [
        "model = LinearRegression()\n",
        "#model = DecisionTreeRegressor()\n",
        "#model = RandomForestRegressor()\n",
        "model.fit(X_train, y_train)"
      ],
      "execution_count": 22,
      "outputs": [
        {
          "output_type": "execute_result",
          "data": {
            "text/plain": [
              "LinearRegression(copy_X=True, fit_intercept=True, n_jobs=None, normalize=False)"
            ]
          },
          "metadata": {
            "tags": []
          },
          "execution_count": 22
        }
      ]
    },
    {
      "cell_type": "code",
      "metadata": {
        "id": "aGH8uM_kMnp3"
      },
      "source": [
        "#scaler=MinMaxScaler(feature_range=(-1,1))\n",
        "#train_sc = scaler.fit_transform(X.values.reshape(-1,1))\n",
        "#test_sc = scaler.transform(Y.values.reshape(-1,1))\n",
        "#train_sc"
      ],
      "execution_count": 23,
      "outputs": []
    },
    {
      "cell_type": "markdown",
      "metadata": {
        "id": "X8_6hgYUvGhN"
      },
      "source": [
        "##evaluating the model"
      ]
    },
    {
      "cell_type": "code",
      "metadata": {
        "id": "pxLCBWm3sqd0",
        "outputId": "4847964c-3849-4ac4-ed73-eafe082fbf18",
        "colab": {
          "base_uri": "https://localhost:8080/",
          "height": 204
        }
      },
      "source": [
        "y_test=pd.DataFrame(y_test)\n",
        "y_test.head()"
      ],
      "execution_count": 24,
      "outputs": [
        {
          "output_type": "execute_result",
          "data": {
            "text/html": [
              "<div>\n",
              "<style scoped>\n",
              "    .dataframe tbody tr th:only-of-type {\n",
              "        vertical-align: middle;\n",
              "    }\n",
              "\n",
              "    .dataframe tbody tr th {\n",
              "        vertical-align: top;\n",
              "    }\n",
              "\n",
              "    .dataframe thead th {\n",
              "        text-align: right;\n",
              "    }\n",
              "</style>\n",
              "<table border=\"1\" class=\"dataframe\">\n",
              "  <thead>\n",
              "    <tr style=\"text-align: right;\">\n",
              "      <th></th>\n",
              "      <th>0</th>\n",
              "    </tr>\n",
              "  </thead>\n",
              "  <tbody>\n",
              "    <tr>\n",
              "      <th>0</th>\n",
              "      <td>214.309998</td>\n",
              "    </tr>\n",
              "    <tr>\n",
              "      <th>1</th>\n",
              "      <td>34.480000</td>\n",
              "    </tr>\n",
              "    <tr>\n",
              "      <th>2</th>\n",
              "      <td>216.610001</td>\n",
              "    </tr>\n",
              "    <tr>\n",
              "      <th>3</th>\n",
              "      <td>226.029999</td>\n",
              "    </tr>\n",
              "    <tr>\n",
              "      <th>4</th>\n",
              "      <td>24.120001</td>\n",
              "    </tr>\n",
              "  </tbody>\n",
              "</table>\n",
              "</div>"
            ],
            "text/plain": [
              "            0\n",
              "0  214.309998\n",
              "1   34.480000\n",
              "2  216.610001\n",
              "3  226.029999\n",
              "4   24.120001"
            ]
          },
          "metadata": {
            "tags": []
          },
          "execution_count": 24
        }
      ]
    },
    {
      "cell_type": "code",
      "metadata": {
        "id": "TqJRP58BUZwB",
        "outputId": "dc35027a-a5f5-445c-ad66-b2765f0f48a5",
        "colab": {
          "base_uri": "https://localhost:8080/",
          "height": 204
        }
      },
      "source": [
        "y_pred=model.predict(X_test)\n",
        "y_pred=pd.DataFrame(y_pred)\n",
        "y_pred.head()\n"
      ],
      "execution_count": 25,
      "outputs": [
        {
          "output_type": "execute_result",
          "data": {
            "text/html": [
              "<div>\n",
              "<style scoped>\n",
              "    .dataframe tbody tr th:only-of-type {\n",
              "        vertical-align: middle;\n",
              "    }\n",
              "\n",
              "    .dataframe tbody tr th {\n",
              "        vertical-align: top;\n",
              "    }\n",
              "\n",
              "    .dataframe thead th {\n",
              "        text-align: right;\n",
              "    }\n",
              "</style>\n",
              "<table border=\"1\" class=\"dataframe\">\n",
              "  <thead>\n",
              "    <tr style=\"text-align: right;\">\n",
              "      <th></th>\n",
              "      <th>0</th>\n",
              "    </tr>\n",
              "  </thead>\n",
              "  <tbody>\n",
              "    <tr>\n",
              "      <th>0</th>\n",
              "      <td>214.309998</td>\n",
              "    </tr>\n",
              "    <tr>\n",
              "      <th>1</th>\n",
              "      <td>34.480000</td>\n",
              "    </tr>\n",
              "    <tr>\n",
              "      <th>2</th>\n",
              "      <td>216.610001</td>\n",
              "    </tr>\n",
              "    <tr>\n",
              "      <th>3</th>\n",
              "      <td>226.029999</td>\n",
              "    </tr>\n",
              "    <tr>\n",
              "      <th>4</th>\n",
              "      <td>24.120001</td>\n",
              "    </tr>\n",
              "  </tbody>\n",
              "</table>\n",
              "</div>"
            ],
            "text/plain": [
              "            0\n",
              "0  214.309998\n",
              "1   34.480000\n",
              "2  216.610001\n",
              "3  226.029999\n",
              "4   24.120001"
            ]
          },
          "metadata": {
            "tags": []
          },
          "execution_count": 25
        }
      ]
    },
    {
      "cell_type": "code",
      "metadata": {
        "id": "naitTC-3s8hd",
        "outputId": "ef7ae72f-8535-4cf9-87bf-1957dc408ce9",
        "colab": {
          "base_uri": "https://localhost:8080/",
          "height": 51
        }
      },
      "source": [
        "mse=mean_squared_error(y_test,y_pred)\n",
        "print(\"mean squared error\",mse)\n",
        "print('Coefficient of determination:', r2_score(y_test, y_pred))"
      ],
      "execution_count": 26,
      "outputs": [
        {
          "output_type": "stream",
          "text": [
            "mean squared error 2.6100183961061475e-25\n",
            "Coefficient of determination: 1.0\n"
          ],
          "name": "stdout"
        }
      ]
    },
    {
      "cell_type": "markdown",
      "metadata": {
        "id": "yDWFW0mtyt7g"
      },
      "source": [
        "linear :-\n",
        "\n",
        "  mean squared error 1.6083798487286338\n",
        "\n",
        "  Coefficient of determination: 0.9998231613365195\n",
        "\n",
        "decision tree:-\n",
        "\n",
        "  mean squared error 5.081394152651037\n",
        "\n",
        "  Coefficient of determination: 0.9994413092458958\n",
        "\n",
        "randomforest regressor:-\n",
        "\n",
        "  mean squared error 3.154977022278141\n",
        "  \n",
        "  Coefficient of determination: 0.9996531155744258  "
      ]
    }
  ]
}